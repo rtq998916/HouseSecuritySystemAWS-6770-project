{
 "cells": [
  {
   "cell_type": "code",
   "execution_count": 1,
   "metadata": {},
   "outputs": [
    {
     "name": "stderr",
     "output_type": "stream",
     "text": [
      "Using cache found in /home/xinghua/.cache/torch/hub/ultralytics_yolov5_master\n",
      "YOLOv5 🚀 2021-11-28 torch 1.10.0+cu102 CUDA:0 (GeForce GTX 1060 with Max-Q Design, 6078MiB)\n",
      "\n",
      "Fusing layers... \n",
      "Model Summary: 213 layers, 7225885 parameters, 0 gradients\n",
      "Adding AutoShape... \n",
      "image 1/2: 720x1280 2 persons, 1 tie\n",
      "image 2/2: 1080x810 4 persons, 1 bus\n",
      "Speed: 283.7ms pre-process, 19.3ms inference, 1.1ms NMS per image at shape (2, 3, 640, 640)\n"
     ]
    }
   ],
   "source": [
    "import torch\n",
    "import numpy as np\n",
    "import cv2 as cv\n",
    "\n",
    "\n",
    "model = torch.hub.load('ultralytics/yolov5', 'yolov5s')\n",
    "\n",
    "# Images\n",
    "dir = 'https://github.com/ultralytics/yolov5/raw/master/data/images/'\n",
    "imgs = [dir + f for f in ('zidane.jpg', 'bus.jpg')]  # batch of images\n",
    "\n",
    "# Inference\n",
    "results = model(imgs)\n",
    "results.print()  # or .show(), .save()"
   ]
  },
  {
   "cell_type": "code",
   "execution_count": 8,
   "metadata": {},
   "outputs": [],
   "source": [
    "result_list = results.display(crop=True)"
   ]
  },
  {
   "cell_type": "code",
   "execution_count": 26,
   "metadata": {},
   "outputs": [
    {
     "name": "stdout",
     "output_type": "stream",
     "text": [
      "<class 'dict'>\n",
      "tie\n",
      "person\n",
      "person\n",
      "person\n",
      "bus\n",
      "person\n",
      "person\n",
      "person\n"
     ]
    }
   ],
   "source": [
    "type(result_list)\n",
    "print(type(result_list[0]))\n",
    "for i in range(len(result_list)):\n",
    "    print(str.split(result_list[i]['label'])[0])\n",
    "# print(result_list)"
   ]
  }
 ],
 "metadata": {
  "interpreter": {
   "hash": "eee0596cae40466d6e5077bdcde52dbed3786a07851ac02deca121da91aa39f3"
  },
  "kernelspec": {
   "display_name": "Python 3.6.9 64-bit ('yolov5Env': venv)",
   "language": "python",
   "name": "python3"
  },
  "language_info": {
   "codemirror_mode": {
    "name": "ipython",
    "version": 3
   },
   "file_extension": ".py",
   "mimetype": "text/x-python",
   "name": "python",
   "nbconvert_exporter": "python",
   "pygments_lexer": "ipython3",
   "version": "3.6.9"
  },
  "orig_nbformat": 4
 },
 "nbformat": 4,
 "nbformat_minor": 2
}
